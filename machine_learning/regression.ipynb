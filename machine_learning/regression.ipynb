{
 "cells": [
  {
   "cell_type": "markdown",
   "id": "6d2970cb",
   "metadata": {},
   "source": [
    "## Problem 2. Discrimination power of logistic regression\n",
    "\n",
    "Write a linear line and a quadratic line for regression.\n",
    "\n",
    "reference: [Logistic Regression in Python](https://www.youtube.com/watch?v=NtjAeXppomA)"
   ]
  },
  {
   "cell_type": "code",
   "execution_count": 3,
   "id": "d83f5f73",
   "metadata": {},
   "outputs": [
    {
     "data": {
      "text/plain": [
       "(1.8, 10.2)"
      ]
     },
     "execution_count": 3,
     "metadata": {},
     "output_type": "execute_result"
    },
    {
     "data": {
      "image/png": "[encoded data removed]",
      "text/plain": [
       "<Figure size 300x300 with 1 Axes>"
      ]
     },
     "metadata": {},
     "output_type": "display_data"
    }
   ],
   "source": [
    "# import our data\n",
    "import numpy as np\n",
    "import matplotlib.pyplot as plt\n",
    "\n",
    "x = np.array([[3.,2.],[2.,2.8],[5.2,3.],[6.8,4.],[5.8,4.2],[9.8,5.],[3.,6.],[5.2,6],[8.,6.],[8.8,7.]])\n",
    "y = np.array([0,0,0,1,0,1,0,1,1,1])\n",
    "\n",
    "f = plt.figure()\n",
    "f.set_figwidth(3)\n",
    "f.set_figheight(3)\n",
    "\n",
    "for label in set(y):\n",
    "    mask = y==label\n",
    "    plt.scatter(x[:,0][mask], x[:,1][mask], marker = '.', s=60, label = int(label))\n",
    "plt.legend()\n",
    "plt.xlabel('$x_1$')\n",
    "plt.ylabel('$x_2$')\n",
    "plt.xlim([1.8,10.2])\n",
    "plt.ylim([1.8,10.2])"
   ]
  },
  {
   "cell_type": "code",
   "execution_count": 4,
   "id": "1693a7b3",
   "metadata": {},
   "outputs": [],
   "source": [
    "import numpy as np\n",
    "\n",
    "def sigmoid(z):\n",
    "    return 1./(1.+np.exp(-z))\n",
    "\n",
    "# cost function\n",
    "# -1*sum(y.np.log(y_pred(w,x)) + (1-y)*np.log(1-y_pred(w,x)))"
   ]
  },
  {
   "cell_type": "markdown",
   "id": "9a4fc896",
   "metadata": {},
   "source": [
    "### Linear Logistic Regression\n",
    "\n",
    "Data ponts: $\\vec x^i=(x_1^i,x_2^i)$. Set the linear function as $f(\\vec x)=w_0+w_1x_1+w_2x_2$, where $\\vec w=(w_0,w_1,w_2)$ are the parameters. The discriminating line is $f(\\vec x)=0$. The probability that $\\vec x$ belongs to catagory $1$ is $P(y^i=1|\\vec x^i)=\\sigma(w_0+w_1x_1^i+w_2x_2^i)$, denoted as $\\hat y_i^i=\\sigma(z^i)$. \n",
    "\n",
    "Then the cost function is $\\displaystyle c(\\vec w)=\\sum_i -y^i\\ln\\hat y^i-(1-y^i)\\ln\\hat(1-\\hat y^i)$. The partial derivatives of the cost function w.r.t. parameters are $\\displaystyle\\frac{\\partial c}{\\partial w_0}=\\sum_i -y^i(1-\\hat y^i)+(1-y^i)\\hat y^i$, $\\displaystyle\\frac{\\partial c}{\\partial w_1}=\\sum_i -y^i(1-\\hat y^i)x_1^i+(1-y^i)\\hat y^ix_1^i$, $\\displaystyle\\frac{\\partial c}{\\partial w_2}=\\sum_i -y^i(1-\\hat y^i)x_2^i+(1-y^i)\\hat y^ix_2^i$. "
   ]
  },
  {
   "cell_type": "code",
   "execution_count": 5,
   "id": "20efebb2",
   "metadata": {},
   "outputs": [],
   "source": [
    "# prediction given by our model\n",
    "def y_pred(w, x):\n",
    "    z = np.array(w[0] + w[1]*x[:,0] + w[2]*x[:,1])\n",
    "    return sigmoid(z)\n",
    "\n",
    "# gradient: partial derivatives of cost funtion\n",
    "def gradient(w, x, y):\n",
    "    g = np.zeros(3)\n",
    "    g[0] = -1*sum(y*(1-y_pred(w,x)) - (1-y)*y_pred(w,x))\n",
    "    g[1] = -1*sum(y*(1-y_pred(w,x))*x[:,0] - (1-y)*y_pred(w,x)*x[:,0])\n",
    "    g[2] = -1*sum(y*(1-y_pred(w,x))*x[:,1] - (1-y)*y_pred(w,x)*x[:,1])\n",
    "    return g\n",
    "\n",
    "# descent for one step\n",
    "def descent(w, x, y, learning_rate):\n",
    "    g = gradient(w,x,y)\n",
    "    w_new = np.zeros(3)\n",
    "    w_new[0] = w[0] - learning_rate*g[0]\n",
    "    w_new[1] = w[1] - learning_rate*g[1]\n",
    "    w_new[2] = w[2] - learning_rate*g[2]\n",
    "    return w_new\n",
    "\n",
    "# initialize (randomly)\n",
    "w = np.array([0,0,0])\n",
    "\n",
    "err = 1\n",
    "while err > 1e-6:\n",
    "    w_new = descent(w,x,y,0.009)\n",
    "    err = sum((w - w_new)**2)\n",
    "    w = w_new"
   ]
  },
  {
   "cell_type": "code",
   "execution_count": null,
   "id": "f18de192",
   "metadata": {},
   "outputs": [
    {
     "data": {
      "text/plain": [
       "(1.8, 10.2)"
      ]
     },
     "execution_count": 6,
     "metadata": {},
     "output_type": "execute_result"
    },
    {
     "data": {
      "image/png": "[encoded data removed]",
      "text/plain": [
       "<Figure size 300x300 with 1 Axes>"
      ]
     },
     "metadata": {},
     "output_type": "display_data"
    }
   ],
   "source": [
    "# plotting\n",
    "import matplotlib.pyplot as plt\n",
    "\n",
    "x_1_dot = np.linspace(2,10,100)\n",
    "x_2_dot = -w[0]/w[2]-w[1]/w[2]*x_1_dot\n",
    "\n",
    "f = plt.figure()\n",
    "f.set_figwidth(3)\n",
    "f.set_figheight(3)\n",
    "\n",
    "for label in set(y):\n",
    "    mask = y==label\n",
    "    plt.scatter(x[:,0][mask], x[:,1][mask], marker = '.', s=60, label = int(label))\n",
    "plt.legend()\n",
    "plt.xlabel('$x_1$')\n",
    "plt.ylabel('$x_2$')\n",
    "plt.plot(x_1_dot, x_2_dot)\n",
    "plt.xlim([1.8,10.2])\n",
    "plt.ylim([1.8,10.2])"
   ]
  },
  {
   "cell_type": "markdown",
   "id": "e38f3f28",
   "metadata": {},
   "source": [
    "### Quadratic Logistic Regression"
   ]
  },
  {
   "cell_type": "code",
   "execution_count": 7,
   "id": "b3310467",
   "metadata": {},
   "outputs": [],
   "source": [
    "# prediction given by our model\n",
    "def y_pred(w, x):\n",
    "    z = np.array(w[0] + w[1]*x[:,0] + w[2]*x[:,1] + w[3]*x[:,0]**2 + w[4]*x[:,1]**2 + w[5]*x[:,0]*x[:,1])\n",
    "    return sigmoid(z)\n",
    "\n",
    "# gradient: partial derivatives of cost funtion\n",
    "def gradient(w, x, y):\n",
    "    g = np.zeros(6)\n",
    "    g[0] = -1*sum(y*(1-y_pred(w,x)) - (1-y)*y_pred(w,x))\n",
    "    g[1] = -1*sum(y*(1-y_pred(w,x))*x[:,0] - (1-y)*y_pred(w,x)*x[:,0])\n",
    "    g[2] = -1*sum(y*(1-y_pred(w,x))*x[:,1] - (1-y)*y_pred(w,x)*x[:,1])\n",
    "    g[3] = -1*sum(y*(1-y_pred(w,x))*x[:,0]**2 - (1-y)*y_pred(w,x)*x[:,0]**2)\n",
    "    g[4] = -1*sum(y*(1-y_pred(w,x))*x[:,1]**2 - (1-y)*y_pred(w,x)*x[:,1]**2)\n",
    "    g[5] = -1*sum(y*(1-y_pred(w,x))*x[:,0]*x[:,1] - (1-y)*y_pred(w,x)*x[:,0]*x[:,1])        \n",
    "    return g\n",
    "\n",
    "# descent for one step\n",
    "def descent(w, x, y, learning_rate):\n",
    "    g = gradient(w,x,y)\n",
    "    w_new = np.zeros(6)\n",
    "    w_new[0] = w[0] - learning_rate*g[0]\n",
    "    w_new[1] = w[1] - learning_rate*g[1]\n",
    "    w_new[2] = w[2] - learning_rate*g[2]\n",
    "    w_new[3] = w[3] - learning_rate*g[3]\n",
    "    w_new[4] = w[4] - learning_rate*g[4]\n",
    "    w_new[5] = w[5] - learning_rate*g[5]\n",
    "    return w_new\n",
    "\n",
    "# initialize (randomly)\n",
    "w = np.array([0,0,0,0,0,0])\n",
    "\n",
    "err = 1\n",
    "while err > 1e-6:\n",
    "    w_new = descent(w,x,y,0.009)\n",
    "    err = sum((w - w_new)**2)\n",
    "    w = w_new"
   ]
  },
  {
   "cell_type": "code",
   "execution_count": null,
   "id": "3e9de0d9",
   "metadata": {},
   "outputs": [
    {
     "name": "stderr",
     "output_type": "stream",
     "text": [
      "/var/folders/gv/v5_pzg5j53n7pshcq8rj8ky80000gn/T/ipykernel_1645/1940454336.py:14: RuntimeWarning: The iteration is not making good progress, as measured by the \n",
      "  improvement from the last ten iterations.\n",
      "  root = fsolve(func, (2,100))\n",
      "/var/folders/gv/v5_pzg5j53n7pshcq8rj8ky80000gn/T/ipykernel_1645/1940454336.py:14: RuntimeWarning: The iteration is not making good progress, as measured by the \n",
      "  improvement from the last five Jacobian evaluations.\n",
      "  root = fsolve(func, (2,100))\n"
     ]
    },
    {
     "data": {
      "text/plain": [
       "(1.8, 10.2)"
      ]
     },
     "execution_count": 8,
     "metadata": {},
     "output_type": "execute_result"
    },
    {
     "data": {
      "image/png": "[encoded data removed]",
      "text/plain": [
       "<Figure size 300x300 with 1 Axes>"
      ]
     },
     "metadata": {},
     "output_type": "display_data"
    }
   ],
   "source": [
    "# plotting\n",
    "import matplotlib.pyplot as plt\n",
    "from scipy.optimize import fsolve\n",
    "\n",
    "x_1_dot = np.linspace(2,10,100)\n",
    "x_2_dot = np.zeros(200)\n",
    "x_2_dot = np.reshape(x_2_dot,(100,2))\n",
    "\n",
    "def func(x):\n",
    "    return w[0] + w[1]*x_1 + w[2]*x + w[3]*x_1**2 + w[4]*x**2 + w[5]*x_1*x\n",
    "\n",
    "for i in range (100):\n",
    "    x_1 = 0.08*i + 2 # x_1_dot = np.linspace(2,10,100)\n",
    "    root = fsolve(func, (2,100))\n",
    "    if root.shape[0] == 1:\n",
    "        x_2_dot[i][0] = root[0]\n",
    "    if root.shape[0] == 2:\n",
    "        x_2_dot[i][0] = root[0]\n",
    "        x_2_dot[i][1] = root[1]\n",
    "\n",
    "f = plt.figure()\n",
    "f.set_figwidth(3)\n",
    "f.set_figheight(3)\n",
    "\n",
    "for label in set(y):\n",
    "    mask = y==label\n",
    "    plt.scatter(x[:,0][mask], x[:,1][mask], marker = '.', s=60, label = int(label))\n",
    "plt.legend()\n",
    "plt.xlabel('$x_1$')\n",
    "plt.ylabel('$x_2$')\n",
    "plt.plot(x_1_dot[28:100], x_2_dot[28:100,0])\n",
    "plt.plot(x_1_dot[28:100], x_2_dot[28:100,1])\n",
    "plt.xlim([1.8,10.2])\n",
    "plt.ylim([1.8,10.2])"
   ]
  }
 ],
 "metadata": {
  "kernelspec": {
   "display_name": "base",
   "language": "python",
   "name": "python3"
  },
  "language_info": {
   "codemirror_mode": {
    "name": "ipython",
    "version": 3
   },
   "file_extension": ".py",
   "mimetype": "text/x-python",
   "name": "python",
   "nbconvert_exporter": "python",
   "pygments_lexer": "ipython3",
   "version": "3.12.7"
  }
 },
 "nbformat": 4,
 "nbformat_minor": 5
}
