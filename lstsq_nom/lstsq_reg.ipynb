{
 "cells": [
  {
   "cell_type": "markdown",
   "id": "a44ed985-7bcc-4ab5-884f-36bbd04ddb5d",
   "metadata": {},
   "source": [
    "## Solving underdetermined linear equations\n",
    "\n",
    "Example: solving $\\mathbf A \\vec x = \\vec b$, where $\\mathbf A = \\begin{bmatrix} 1 & 2 & 3 \\\\ 4 & 5 & 6 \\end{bmatrix}$, $\\vec b = \\begin{bmatrix} 7 \\\\ 8 \\end{bmatrix}$.\n",
    "\n",
    "From linear algebra, the general solution should be $\\displaystyle\\vec x = \\frac{1}{3}\\begin{bmatrix} -19 \\\\ 20 \\\\ 0 \\end{bmatrix} + t\\begin{bmatrix} 1 \\\\ -2 \\\\ 1 \\end{bmatrix} $.\n",
    "\n",
    "Obviously, the solution with minimal $\\Vert \\vec x\\Vert^2$ is fund when $\\displaystyle t=\\frac{59}{18}$, and $\\displaystyle x_\\text{min norm} = \\frac{1}{18} \\begin{bmatrix} -55 \\\\ 2 \\\\ 59 \\end{bmatrix} \\approx \\begin{bmatrix} -3.056 \\\\ 0.111 \\\\ 2.278 \\end{bmatrix}$, or the least square solution."
   ]
  },
  {
   "cell_type": "code",
   "execution_count": 1,
   "id": "20e86bab-d208-4aae-988a-e7cafc6a540d",
   "metadata": {},
   "outputs": [],
   "source": [
    "# define the linear equations\n",
    "import numpy as np\n",
    "\n",
    "A = np.array([[1, 2, 3], \n",
    "              [4, 5, 6]])\n",
    "b = np.array([7, 8])"
   ]
  },
  {
   "cell_type": "code",
   "execution_count": 2,
   "id": "a64cee0c-f11f-4d0f-b5a9-64281ff09930",
   "metadata": {},
   "outputs": [
    {
     "name": "stdout",
     "output_type": "stream",
     "text": [
      "the least square solution is\n",
      "[-3.05555556  0.11111111  3.27777778]\n"
     ]
    }
   ],
   "source": [
    "# calculate the least square solution\n",
    "x_lstsq, resids, rank, s = np.linalg.lstsq(A, b, rcond=None)\n",
    "print(\"the least square solution is\")\n",
    "print(x_lstsq)"
   ]
  },
  {
   "cell_type": "markdown",
   "id": "a19bcda6-7ce4-4555-aac8-380c9e7565fe",
   "metadata": {},
   "source": [
    "To solve $\\mathbf A \\vec x = \\vec b$, where $\\mathbf A$ is an $m \\times n$ matrix, using $m$ equations to solve $n$ unknowns. If $\\mathbf A^T \\mathbf A$ is reversible, the least square solution can be easily calculated as $\\vec x_\\text{lstsq} = (\\mathbf A^T \\mathbf A)^{-1} \\mathbf A^T \\vec b$.\n",
    "\n",
    "Here, unfortunately, $\\mathbf A$ is $2 \\times 3$, and $\\mathbf A^T \\mathbf A$ is $3 \\times 3$ but $\\text{rank}(\\mathbf A^T \\mathbf A)=2$ (not reversible). However, we can approximate the least square solution by adding a small regularization $\\epsilon > 0$ and find the least square solution of $\\Vert \\mathbf A \\vec x - \\vec b\\Vert^2 + \\epsilon \\Vert \\vec x \\Vert^2$. Now we should have $\\vec x_\\text{lstsq} = (\\mathbf A^T \\mathbf A + \\epsilon \\mathbf I)^{-1} \\mathbf A^T \\vec b$ and $\\mathbf A^T \\mathbf A + \\epsilon \\mathbf I$ is reversible.\n",
    "\n",
    "If we choose $\\epsilon$ as a VERY small positive value, the solution should be the least square solution!"
   ]
  },
  {
   "cell_type": "code",
   "execution_count": 3,
   "id": "80d13605-b574-4be1-9b90-ac7a4bb80a75",
   "metadata": {},
   "outputs": [
    {
     "name": "stdout",
     "output_type": "stream",
     "text": [
      "the least square solution from solving with regularization：\n",
      "[-3.05554968  0.11111192  3.27777353]\n"
     ]
    }
   ],
   "source": [
    "# reg param as small as 1e-6\n",
    "epsilon = 0.000001\n",
    "\n",
    "# calculate (A^T A + epsilon I) and A^T b\n",
    "A_T_A = np.dot(A.T, A)\n",
    "A_T_b = np.dot(A.T, b)\n",
    "epsilon_I = epsilon * np.eye(A.shape[1])\n",
    "\n",
    "x_reg = np.linalg.inv(A_T_A + epsilon_I).dot(A_T_b)\n",
    "\n",
    "print(\"the least square solution from solving with regularization：\")\n",
    "print(x_reg)"
   ]
  }
 ],
 "metadata": {
  "kernelspec": {
   "display_name": "Python 3 (ipykernel)",
   "language": "python",
   "name": "python3"
  },
  "language_info": {
   "codemirror_mode": {
    "name": "ipython",
    "version": 3
   },
   "file_extension": ".py",
   "mimetype": "text/x-python",
   "name": "python",
   "nbconvert_exporter": "python",
   "pygments_lexer": "ipython3",
   "version": "3.11.6"
  }
 },
 "nbformat": 4,
 "nbformat_minor": 5
}
